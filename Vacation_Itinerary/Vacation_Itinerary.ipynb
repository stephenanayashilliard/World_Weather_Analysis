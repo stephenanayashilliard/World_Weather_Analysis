{
 "cells": [
  {
   "cell_type": "markdown",
   "metadata": {},
   "source": [
    "## Deliverable 3. Create a Travel Itinerary Map."
   ]
  },
  {
   "cell_type": "code",
   "execution_count": 20,
   "metadata": {},
   "outputs": [
    {
     "name": "stdout",
     "output_type": "stream",
     "text": [
      "Requirement already satisfied: gmaps==0.6.2-alpha0 in c:\\users\\stephen\\anaconda3\\lib\\site-packages (0.6.2a0)\n",
      "Requirement already satisfied: traitlets>=4.3.0 in c:\\users\\stephen\\anaconda3\\lib\\site-packages (from gmaps==0.6.2-alpha0) (4.3.3)\n",
      "Requirement already satisfied: geojson>=2.0.0 in c:\\users\\stephen\\anaconda3\\lib\\site-packages (from gmaps==0.6.2-alpha0) (2.5.0)\n",
      "Requirement already satisfied: ipython>=5.3.0 in c:\\users\\stephen\\anaconda3\\lib\\site-packages (from gmaps==0.6.2-alpha0) (7.16.1)\n",
      "Requirement already satisfied: six in c:\\users\\stephen\\appdata\\roaming\\python\\python38\\site-packages (from gmaps==0.6.2-alpha0) (1.15.0)\n",
      "Requirement already satisfied: ipywidgets>=7.0.0 in c:\\users\\stephen\\anaconda3\\lib\\site-packages (from gmaps==0.6.2-alpha0) (7.5.1)\n",
      "Requirement already satisfied: decorator in c:\\users\\stephen\\anaconda3\\lib\\site-packages (from traitlets>=4.3.0->gmaps==0.6.2-alpha0) (4.4.2)\n",
      "Requirement already satisfied: ipython-genutils in c:\\users\\stephen\\anaconda3\\lib\\site-packages (from traitlets>=4.3.0->gmaps==0.6.2-alpha0) (0.2.0)\n",
      "Requirement already satisfied: prompt-toolkit!=3.0.0,!=3.0.1,<3.1.0,>=2.0.0 in c:\\users\\stephen\\anaconda3\\lib\\site-packages (from ipython>=5.3.0->gmaps==0.6.2-alpha0) (3.0.5)\n",
      "Requirement already satisfied: pickleshare in c:\\users\\stephen\\anaconda3\\lib\\site-packages (from ipython>=5.3.0->gmaps==0.6.2-alpha0) (0.7.5)\n",
      "Requirement already satisfied: backcall in c:\\users\\stephen\\anaconda3\\lib\\site-packages (from ipython>=5.3.0->gmaps==0.6.2-alpha0) (0.2.0)\n",
      "Requirement already satisfied: pygments in c:\\users\\stephen\\anaconda3\\lib\\site-packages (from ipython>=5.3.0->gmaps==0.6.2-alpha0) (2.6.1)\n",
      "Requirement already satisfied: setuptools>=18.5 in c:\\users\\stephen\\anaconda3\\lib\\site-packages (from ipython>=5.3.0->gmaps==0.6.2-alpha0) (49.2.0.post20200714)\n",
      "Requirement already satisfied: colorama; sys_platform == \"win32\" in c:\\users\\stephen\\appdata\\roaming\\python\\python38\\site-packages (from ipython>=5.3.0->gmaps==0.6.2-alpha0) (0.4.3)\n",
      "Requirement already satisfied: jedi>=0.10 in c:\\users\\stephen\\anaconda3\\lib\\site-packages (from ipython>=5.3.0->gmaps==0.6.2-alpha0) (0.17.1)\n",
      "Requirement already satisfied: widgetsnbextension~=3.5.0 in c:\\users\\stephen\\anaconda3\\lib\\site-packages (from ipywidgets>=7.0.0->gmaps==0.6.2-alpha0) (3.5.1)\n",
      "Requirement already satisfied: nbformat>=4.2.0 in c:\\users\\stephen\\anaconda3\\lib\\site-packages (from ipywidgets>=7.0.0->gmaps==0.6.2-alpha0) (5.0.7)\n",
      "Requirement already satisfied: ipykernel>=4.5.1 in c:\\users\\stephen\\anaconda3\\lib\\site-packages (from ipywidgets>=7.0.0->gmaps==0.6.2-alpha0) (5.3.2)\n",
      "Requirement already satisfied: wcwidth in c:\\users\\stephen\\anaconda3\\lib\\site-packages (from prompt-toolkit!=3.0.0,!=3.0.1,<3.1.0,>=2.0.0->ipython>=5.3.0->gmaps==0.6.2-alpha0) (0.2.5)\n",
      "Requirement already satisfied: parso<0.8.0,>=0.7.0 in c:\\users\\stephen\\anaconda3\\lib\\site-packages (from jedi>=0.10->ipython>=5.3.0->gmaps==0.6.2-alpha0) (0.7.0)\n",
      "Requirement already satisfied: notebook>=4.4.1 in c:\\users\\stephen\\anaconda3\\lib\\site-packages (from widgetsnbextension~=3.5.0->ipywidgets>=7.0.0->gmaps==0.6.2-alpha0) (6.0.3)\n",
      "Requirement already satisfied: jupyter-core in c:\\users\\stephen\\anaconda3\\lib\\site-packages (from nbformat>=4.2.0->ipywidgets>=7.0.0->gmaps==0.6.2-alpha0) (4.6.3)\n",
      "Requirement already satisfied: jsonschema!=2.5.0,>=2.4 in c:\\users\\stephen\\anaconda3\\lib\\site-packages (from nbformat>=4.2.0->ipywidgets>=7.0.0->gmaps==0.6.2-alpha0) (3.2.0)\n",
      "Requirement already satisfied: jupyter-client in c:\\users\\stephen\\anaconda3\\lib\\site-packages (from ipykernel>=4.5.1->ipywidgets>=7.0.0->gmaps==0.6.2-alpha0) (6.1.6)\n",
      "Requirement already satisfied: tornado>=4.2 in c:\\users\\stephen\\anaconda3\\lib\\site-packages (from ipykernel>=4.5.1->ipywidgets>=7.0.0->gmaps==0.6.2-alpha0) (6.0.4)\n",
      "Requirement already satisfied: Send2Trash in c:\\users\\stephen\\anaconda3\\lib\\site-packages (from notebook>=4.4.1->widgetsnbextension~=3.5.0->ipywidgets>=7.0.0->gmaps==0.6.2-alpha0) (1.5.0)\n",
      "Requirement already satisfied: pyzmq>=17 in c:\\users\\stephen\\anaconda3\\lib\\site-packages (from notebook>=4.4.1->widgetsnbextension~=3.5.0->ipywidgets>=7.0.0->gmaps==0.6.2-alpha0) (19.0.1)\n",
      "Requirement already satisfied: prometheus-client in c:\\users\\stephen\\anaconda3\\lib\\site-packages (from notebook>=4.4.1->widgetsnbextension~=3.5.0->ipywidgets>=7.0.0->gmaps==0.6.2-alpha0) (0.8.0)\n",
      "Requirement already satisfied: nbconvert in c:\\users\\stephen\\anaconda3\\lib\\site-packages (from notebook>=4.4.1->widgetsnbextension~=3.5.0->ipywidgets>=7.0.0->gmaps==0.6.2-alpha0) (5.6.1)\n",
      "Requirement already satisfied: jinja2 in c:\\users\\stephen\\anaconda3\\lib\\site-packages (from notebook>=4.4.1->widgetsnbextension~=3.5.0->ipywidgets>=7.0.0->gmaps==0.6.2-alpha0) (2.11.2)\n",
      "Requirement already satisfied: terminado>=0.8.1 in c:\\users\\stephen\\anaconda3\\lib\\site-packages (from notebook>=4.4.1->widgetsnbextension~=3.5.0->ipywidgets>=7.0.0->gmaps==0.6.2-alpha0) (0.8.3)\n",
      "Requirement already satisfied: pywin32>=1.0; sys_platform == \"win32\" in c:\\users\\stephen\\anaconda3\\lib\\site-packages (from jupyter-core->nbformat>=4.2.0->ipywidgets>=7.0.0->gmaps==0.6.2-alpha0) (227)\n",
      "Requirement already satisfied: pyrsistent>=0.14.0 in c:\\users\\stephen\\anaconda3\\lib\\site-packages (from jsonschema!=2.5.0,>=2.4->nbformat>=4.2.0->ipywidgets>=7.0.0->gmaps==0.6.2-alpha0) (0.16.0)\n",
      "Requirement already satisfied: attrs>=17.4.0 in c:\\users\\stephen\\anaconda3\\lib\\site-packages (from jsonschema!=2.5.0,>=2.4->nbformat>=4.2.0->ipywidgets>=7.0.0->gmaps==0.6.2-alpha0) (19.3.0)\n",
      "Requirement already satisfied: python-dateutil>=2.1 in c:\\users\\stephen\\anaconda3\\lib\\site-packages (from jupyter-client->ipykernel>=4.5.1->ipywidgets>=7.0.0->gmaps==0.6.2-alpha0) (2.8.1)\n",
      "Requirement already satisfied: bleach in c:\\users\\stephen\\anaconda3\\lib\\site-packages (from nbconvert->notebook>=4.4.1->widgetsnbextension~=3.5.0->ipywidgets>=7.0.0->gmaps==0.6.2-alpha0) (3.1.5)\n",
      "Requirement already satisfied: pandocfilters>=1.4.1 in c:\\users\\stephen\\anaconda3\\lib\\site-packages (from nbconvert->notebook>=4.4.1->widgetsnbextension~=3.5.0->ipywidgets>=7.0.0->gmaps==0.6.2-alpha0) (1.4.2)\n",
      "Requirement already satisfied: defusedxml in c:\\users\\stephen\\anaconda3\\lib\\site-packages (from nbconvert->notebook>=4.4.1->widgetsnbextension~=3.5.0->ipywidgets>=7.0.0->gmaps==0.6.2-alpha0) (0.6.0)\n",
      "Requirement already satisfied: testpath in c:\\users\\stephen\\anaconda3\\lib\\site-packages (from nbconvert->notebook>=4.4.1->widgetsnbextension~=3.5.0->ipywidgets>=7.0.0->gmaps==0.6.2-alpha0) (0.4.4)\n",
      "Requirement already satisfied: entrypoints>=0.2.2 in c:\\users\\stephen\\anaconda3\\lib\\site-packages (from nbconvert->notebook>=4.4.1->widgetsnbextension~=3.5.0->ipywidgets>=7.0.0->gmaps==0.6.2-alpha0) (0.3)\n",
      "Requirement already satisfied: mistune<2,>=0.8.1 in c:\\users\\stephen\\anaconda3\\lib\\site-packages (from nbconvert->notebook>=4.4.1->widgetsnbextension~=3.5.0->ipywidgets>=7.0.0->gmaps==0.6.2-alpha0) (0.8.4)\n",
      "Requirement already satisfied: MarkupSafe>=0.23 in c:\\users\\stephen\\anaconda3\\lib\\site-packages (from jinja2->notebook>=4.4.1->widgetsnbextension~=3.5.0->ipywidgets>=7.0.0->gmaps==0.6.2-alpha0) (1.1.1)\n",
      "Requirement already satisfied: webencodings in c:\\users\\stephen\\anaconda3\\lib\\site-packages (from bleach->nbconvert->notebook>=4.4.1->widgetsnbextension~=3.5.0->ipywidgets>=7.0.0->gmaps==0.6.2-alpha0) (0.5.1)\n",
      "Requirement already satisfied: packaging in c:\\users\\stephen\\anaconda3\\lib\\site-packages (from bleach->nbconvert->notebook>=4.4.1->widgetsnbextension~=3.5.0->ipywidgets>=7.0.0->gmaps==0.6.2-alpha0) (20.4)\n",
      "Requirement already satisfied: pyparsing>=2.0.2 in c:\\users\\stephen\\anaconda3\\lib\\site-packages (from packaging->bleach->nbconvert->notebook>=4.4.1->widgetsnbextension~=3.5.0->ipywidgets>=7.0.0->gmaps==0.6.2-alpha0) (2.4.7)\n"
     ]
    }
   ],
   "source": [
    "!pip install gmaps==0.6.2-alpha0\n",
    "\n"
   ]
  },
  {
   "cell_type": "code",
   "execution_count": 21,
   "metadata": {},
   "outputs": [
    {
     "name": "stderr",
     "output_type": "stream",
     "text": [
      "Enabling notebook extension jupyter-gmaps/extension...\n",
      "      - Validating: ok\n"
     ]
    }
   ],
   "source": [
    "!jupyter nbextension enable --py --sys-prefix gmaps"
   ]
  },
  {
   "cell_type": "code",
   "execution_count": 22,
   "metadata": {},
   "outputs": [],
   "source": [
    "# Dependencies and Setup\n",
    "import pandas as pd\n",
    "import requests\n",
    "import gmaps\n",
    "import numpy as np\n",
    "import matplotlib.pyplot as plt\n",
    "import os\n",
    "\n",
    "# Import API key\n",
    "from config import g_key\n",
    "\n",
    "# Configure gmaps\n",
    "gmaps.configure(api_key=g_key)"
   ]
  },
  {
   "cell_type": "code",
   "execution_count": 23,
   "metadata": {},
   "outputs": [
    {
     "data": {
      "text/plain": [
       "'C:\\\\Users\\\\Stephen\\\\Desktop\\\\Class Projects\\\\World_Weather_Analysis\\\\Vacation_Itinerary'"
      ]
     },
     "execution_count": 23,
     "metadata": {},
     "output_type": "execute_result"
    }
   ],
   "source": [
    "os.getcwd()"
   ]
  },
  {
   "cell_type": "code",
   "execution_count": 24,
   "metadata": {},
   "outputs": [
    {
     "data": {
      "text/html": [
       "<div>\n",
       "<style scoped>\n",
       "    .dataframe tbody tr th:only-of-type {\n",
       "        vertical-align: middle;\n",
       "    }\n",
       "\n",
       "    .dataframe tbody tr th {\n",
       "        vertical-align: top;\n",
       "    }\n",
       "\n",
       "    .dataframe thead th {\n",
       "        text-align: right;\n",
       "    }\n",
       "</style>\n",
       "<table border=\"1\" class=\"dataframe\">\n",
       "  <thead>\n",
       "    <tr style=\"text-align: right;\">\n",
       "      <th></th>\n",
       "      <th>City_ID</th>\n",
       "      <th>City</th>\n",
       "      <th>Country</th>\n",
       "      <th>Max Temp</th>\n",
       "      <th>Current Description</th>\n",
       "      <th>Lat</th>\n",
       "      <th>Lng</th>\n",
       "      <th>Hotel Name</th>\n",
       "    </tr>\n",
       "  </thead>\n",
       "  <tbody>\n",
       "    <tr>\n",
       "      <th>0</th>\n",
       "      <td>0</td>\n",
       "      <td>Itoman</td>\n",
       "      <td>JP</td>\n",
       "      <td>78.80</td>\n",
       "      <td>light intensity shower rain</td>\n",
       "      <td>26.12</td>\n",
       "      <td>127.67</td>\n",
       "      <td>Southern Beach Hotel &amp; Resort Okinawa</td>\n",
       "    </tr>\n",
       "    <tr>\n",
       "      <th>1</th>\n",
       "      <td>5</td>\n",
       "      <td>Rikitea</td>\n",
       "      <td>PF</td>\n",
       "      <td>73.54</td>\n",
       "      <td>scattered clouds</td>\n",
       "      <td>-23.12</td>\n",
       "      <td>-134.97</td>\n",
       "      <td>Pension Maro'i</td>\n",
       "    </tr>\n",
       "    <tr>\n",
       "      <th>2</th>\n",
       "      <td>12</td>\n",
       "      <td>Saint-Pierre</td>\n",
       "      <td>RE</td>\n",
       "      <td>75.20</td>\n",
       "      <td>scattered clouds</td>\n",
       "      <td>-21.34</td>\n",
       "      <td>55.48</td>\n",
       "      <td>Lindsey Hôtel</td>\n",
       "    </tr>\n",
       "    <tr>\n",
       "      <th>3</th>\n",
       "      <td>13</td>\n",
       "      <td>Kapaa</td>\n",
       "      <td>US</td>\n",
       "      <td>77.23</td>\n",
       "      <td>clear sky</td>\n",
       "      <td>22.08</td>\n",
       "      <td>-159.32</td>\n",
       "      <td>Sheraton Kauai Resort at Coconut Beach</td>\n",
       "    </tr>\n",
       "    <tr>\n",
       "      <th>4</th>\n",
       "      <td>14</td>\n",
       "      <td>Pangkalanbuun</td>\n",
       "      <td>ID</td>\n",
       "      <td>76.51</td>\n",
       "      <td>overcast clouds</td>\n",
       "      <td>-2.68</td>\n",
       "      <td>111.62</td>\n",
       "      <td>Grand Kecubung Hotel</td>\n",
       "    </tr>\n",
       "  </tbody>\n",
       "</table>\n",
       "</div>"
      ],
      "text/plain": [
       "   City_ID           City Country  Max Temp          Current Description  \\\n",
       "0        0         Itoman      JP     78.80  light intensity shower rain   \n",
       "1        5        Rikitea      PF     73.54             scattered clouds   \n",
       "2       12   Saint-Pierre      RE     75.20             scattered clouds   \n",
       "3       13          Kapaa      US     77.23                    clear sky   \n",
       "4       14  Pangkalanbuun      ID     76.51              overcast clouds   \n",
       "\n",
       "     Lat     Lng                              Hotel Name  \n",
       "0  26.12  127.67   Southern Beach Hotel & Resort Okinawa  \n",
       "1 -23.12 -134.97                          Pension Maro'i  \n",
       "2 -21.34   55.48                           Lindsey Hôtel  \n",
       "3  22.08 -159.32  Sheraton Kauai Resort at Coconut Beach  \n",
       "4  -2.68  111.62                    Grand Kecubung Hotel  "
      ]
     },
     "execution_count": 24,
     "metadata": {},
     "output_type": "execute_result"
    }
   ],
   "source": [
    "# 1. Read the WeatherPy_vacation.csv into a DataFrame.\n",
    "# vacation_df = pd.read_csv(\"Vacation_Search/WeatherPy_vacation.csv\")\n",
    "vacation_df = pd.read_csv(\"C:\\\\Users\\\\Stephen\\\\Desktop\\\\Class Projects\\\\World_Weather_Analysis\\\\Vacation_Search\\\\WeatherPy_vacation.csv\")\n",
    "# vacation_df.head()\n",
    "vacation_df.head()"
   ]
  },
  {
   "cell_type": "code",
   "execution_count": 25,
   "metadata": {},
   "outputs": [],
   "source": [
    "# 2. Using the template add the city name, the country code, the weather description and maximum temperature for the city.\n",
    "info_box_template = \"\"\"\n",
    "<dl>\n",
    "<dt>Hotel Name</dt><dd>{Hotel Name}</dd>\n",
    "<dt>City</dt><dd>{City}</dd>\n",
    "<dt>Country</dt><dd>{Country}</dd>\n",
    "<dt>Current Weather</dt><dd>{Current Description} and {Max Temp}°F</dd>\n",
    "</dl>\n",
    "\"\"\"\n",
    "\n",
    "# 3a. Get the data from each row and add it to the formatting template and store the data in a list.\n",
    "# hotel_info = [info_box_template.format(**row) for index, row in clean_hotel_df.iterrows()]\n",
    "hotel_info = [info_box_template.format(**row) for index, row in vacation_df.iterrows()]\n",
    "# 3b. Get the latitude and longitude from each row and store in a new DataFrame.\n",
    "locations = vacation_df[[\"Lat\", \"Lng\"]]"
   ]
  },
  {
   "cell_type": "code",
   "execution_count": 9,
   "metadata": {},
   "outputs": [
    {
     "data": {
      "application/vnd.jupyter.widget-view+json": {
       "model_id": "aead1147d8124561aaaf08293e039fb6",
       "version_major": 2,
       "version_minor": 0
      },
      "text/plain": [
       "Figure(layout=FigureLayout(height='420px'))"
      ]
     },
     "metadata": {},
     "output_type": "display_data"
    }
   ],
   "source": [
    "# 4a. Add a marker layer for each city to the map.\n",
    "max_temp = vacation_df[\"Max Temp\"]\n",
    "fig = gmaps.figure(center=(30.0, 31.0), zoom_level=1.5)\n",
    "marker_layer = gmaps.marker_layer(locations, info_box_content=hotel_info)\n",
    "fig.add_layer(marker_layer)\n",
    "# 4b. Display the figure\n",
    "fig\n"
   ]
  },
  {
   "cell_type": "code",
   "execution_count": 26,
   "metadata": {},
   "outputs": [],
   "source": [
    "# From the map above pick 4 cities and create a vacation itinerary route to travel between the four cities. \n",
    "# 5. Create DataFrames for each city by filtering the 'vacation_df' using the loc method. \n",
    "# Hint: The starting and ending city should be the same city.\n",
    "\n",
    "vacation_start = vacation_df.loc[vacation_df[\"City\"]==\"Aste\"]\n",
    "vacation_end = vacation_df.loc[vacation_df[\"City\"]==\"Aste\"]\n",
    "vacation_stop1 = vacation_df.loc[vacation_df[\"City\"]==\"Viadana\"]\n",
    "vacation_stop2 = vacation_df.loc[vacation_df[\"City\"]==\"Orvieto\"] \n",
    "vacation_stop3 = vacation_df.loc[vacation_df[\"City\"]==\"Brindisi\"] "
   ]
  },
  {
   "cell_type": "code",
   "execution_count": 61,
   "metadata": {},
   "outputs": [
    {
     "name": "stdout",
     "output_type": "stream",
     "text": [
      "(45.79, 11.1)\n",
      "(45.79, 11.1)\n",
      "(44.93, 10.53)\n",
      "(42.72, 12.11)\n",
      "(40.58, 17.67)\n"
     ]
    }
   ],
   "source": [
    "# 6. Get the latitude-longitude pairs as tuples from each city DataFrame using the to_numpy function and list indexing.\n",
    "#start = vacation_start[[\"Lat\", \"Lng\"]].to_numpy()\n",
    "#end = vacation_end[[\"Lat\", \"Lng\"]].to_numpy()\n",
    "#stop1 = vacation_stop1[[\"Lat\", \"Lng\"]].to_numpy()\n",
    "#stop2 = vacation_stop2[[\"Lat\", \"Lng\"]].to_numpy()\n",
    "#stop3 = vacation_stop3[[\"Lat\", \"Lng\"]].to_numpy()\n",
    "\n",
    "start = vacation_start[[\"Lat\", \"Lng\"]].to_numpy()\n",
    "end = vacation_end[[\"Lat\", \"Lng\"]].to_numpy()\n",
    "stop1 = vacation_stop1[[\"Lat\", \"Lng\"]].to_numpy()\n",
    "stop2 = vacation_stop2[[\"Lat\", \"Lng\"]].to_numpy()\n",
    "stop3 = vacation_stop3[[\"Lat\", \"Lng\"]].to_numpy()\n",
    "\n",
    "start = tuple(start.reshape(1,-1)[0])\n",
    "end = tuple(end.reshape(1,-1)[0])\n",
    "stop1 = tuple(stop1.reshape(1,-1)[0])\n",
    "stop2 = tuple(stop2.reshape(1,-1)[0])\n",
    "stop3 = tuple(stop3.reshape(1,-1)[0])\n",
    "\n",
    "print(start)\n",
    "print(end)\n",
    "print(stop1)\n",
    "print(stop2)\n",
    "print(stop3)\n"
   ]
  },
  {
   "cell_type": "code",
   "execution_count": 68,
   "metadata": {
    "scrolled": true
   },
   "outputs": [
    {
     "data": {
      "application/vnd.jupyter.widget-view+json": {
       "model_id": "1edecd9b998f4c3eaedefde069ba8877",
       "version_major": 2,
       "version_minor": 0
      },
      "text/plain": [
       "Figure(layout=FigureLayout(height='420px'))"
      ]
     },
     "metadata": {},
     "output_type": "display_data"
    }
   ],
   "source": [
    "# 7. Create a direction layer map using the start and end latitude-longitude pairs,\n",
    "# and stop1, stop2, and stop3 as the waypoints. The travel_mode should be \"DRIVING\", \"BICYCLING\", or \"WALKING\".\n",
    "fig = gmaps.figure()\n",
    "roadtrip = gmaps.directions_layer(start, end, waypoints = [stop1, stop2, stop3], travel_mode=\"DRIVING\")\n",
    "fig.add_layer(roadtrip)\n",
    "fig\n",
    "\n",
    "\n"
   ]
  },
  {
   "cell_type": "code",
   "execution_count": 71,
   "metadata": {},
   "outputs": [
    {
     "data": {
      "text/html": [
       "<div>\n",
       "<style scoped>\n",
       "    .dataframe tbody tr th:only-of-type {\n",
       "        vertical-align: middle;\n",
       "    }\n",
       "\n",
       "    .dataframe tbody tr th {\n",
       "        vertical-align: top;\n",
       "    }\n",
       "\n",
       "    .dataframe thead th {\n",
       "        text-align: right;\n",
       "    }\n",
       "</style>\n",
       "<table border=\"1\" class=\"dataframe\">\n",
       "  <thead>\n",
       "    <tr style=\"text-align: right;\">\n",
       "      <th></th>\n",
       "      <th>City_ID</th>\n",
       "      <th>City</th>\n",
       "      <th>Country</th>\n",
       "      <th>Max Temp</th>\n",
       "      <th>Current Description</th>\n",
       "      <th>Lat</th>\n",
       "      <th>Lng</th>\n",
       "      <th>Hotel Name</th>\n",
       "    </tr>\n",
       "  </thead>\n",
       "  <tbody>\n",
       "    <tr>\n",
       "      <th>0</th>\n",
       "      <td>218</td>\n",
       "      <td>Aste</td>\n",
       "      <td>IT</td>\n",
       "      <td>64.0</td>\n",
       "      <td>broken clouds</td>\n",
       "      <td>45.79</td>\n",
       "      <td>11.10</td>\n",
       "      <td>B&amp;B Arlanch 8</td>\n",
       "    </tr>\n",
       "    <tr>\n",
       "      <th>1</th>\n",
       "      <td>436</td>\n",
       "      <td>Viadana</td>\n",
       "      <td>IT</td>\n",
       "      <td>66.2</td>\n",
       "      <td>few clouds</td>\n",
       "      <td>44.93</td>\n",
       "      <td>10.53</td>\n",
       "      <td>Hotel Europa</td>\n",
       "    </tr>\n",
       "    <tr>\n",
       "      <th>2</th>\n",
       "      <td>291</td>\n",
       "      <td>Orvieto</td>\n",
       "      <td>IT</td>\n",
       "      <td>63.0</td>\n",
       "      <td>clear sky</td>\n",
       "      <td>42.72</td>\n",
       "      <td>12.11</td>\n",
       "      <td>Hotel Posta</td>\n",
       "    </tr>\n",
       "    <tr>\n",
       "      <th>3</th>\n",
       "      <td>378</td>\n",
       "      <td>Brindisi</td>\n",
       "      <td>IT</td>\n",
       "      <td>69.8</td>\n",
       "      <td>scattered clouds</td>\n",
       "      <td>40.58</td>\n",
       "      <td>17.67</td>\n",
       "      <td>Agriturismo Tibitone</td>\n",
       "    </tr>\n",
       "  </tbody>\n",
       "</table>\n",
       "</div>"
      ],
      "text/plain": [
       "   City_ID      City Country  Max Temp Current Description    Lat    Lng  \\\n",
       "0      218      Aste      IT      64.0       broken clouds  45.79  11.10   \n",
       "1      436   Viadana      IT      66.2          few clouds  44.93  10.53   \n",
       "2      291   Orvieto      IT      63.0           clear sky  42.72  12.11   \n",
       "3      378  Brindisi      IT      69.8    scattered clouds  40.58  17.67   \n",
       "\n",
       "             Hotel Name  \n",
       "0         B&B Arlanch 8  \n",
       "1          Hotel Europa  \n",
       "2           Hotel Posta  \n",
       "3  Agriturismo Tibitone  "
      ]
     },
     "execution_count": 71,
     "metadata": {},
     "output_type": "execute_result"
    }
   ],
   "source": [
    "# 8. To create a marker layer map between the four cities.\n",
    "#  Combine the four city DataFrames into one DataFrame using the concat() function.\n",
    "itinerary_df = pd.concat([vacation_start,vacation_stop1,vacation_stop2,vacation_stop3],ignore_index=True)\n",
    "itinerary_df"
   ]
  },
  {
   "cell_type": "code",
   "execution_count": 72,
   "metadata": {},
   "outputs": [],
   "source": [
    "# 9 Using the template add city name, the country code, the weather description and maximum temperature for the city. \n",
    "info_box_template = \"\"\"\n",
    "<dl>\n",
    "<dt>Hotel Name</dt><dd>{Hotel Name}</dd>\n",
    "<dt>City</dt><dd>{City}</dd>\n",
    "<dt>Country</dt><dd>{Country}</dd>\n",
    "<dt>Current Weather</dt><dd>{Current Description} and {Max Temp}°F</dd>\n",
    "</dl>\n",
    "\"\"\"\n",
    "\n",
    "# 10a Get the data from each row and add it to the formatting template and store the data in a list.\n",
    "hotel_info = [info_box_template.format(**row) for index, row in itinerary_df.iterrows()]\n",
    "\n",
    "# 10b. Get the latitude and longitude from each row and store in a new DataFrame.\n",
    "locations = itinerary_df[[\"Lat\", \"Lng\"]]"
   ]
  },
  {
   "cell_type": "code",
   "execution_count": 73,
   "metadata": {},
   "outputs": [
    {
     "data": {
      "application/vnd.jupyter.widget-view+json": {
       "model_id": "7fa298131c0f4f5597f449e7e0a57749",
       "version_major": 2,
       "version_minor": 0
      },
      "text/plain": [
       "Figure(layout=FigureLayout(height='420px'))"
      ]
     },
     "metadata": {},
     "output_type": "display_data"
    }
   ],
   "source": [
    "# 11a. Add a marker layer for each city to the map.\n",
    "max_temp = itinerary_df[\"Max Temp\"]\n",
    "fig = gmaps.figure(center=(30.0, 31.0), zoom_level=1.5)\n",
    "marker_layer = gmaps.marker_layer(locations, info_box_content=hotel_info)\n",
    "fig.add_layer(marker_layer)\n",
    "# 11b. Display the figure\n",
    "fig"
   ]
  },
  {
   "cell_type": "code",
   "execution_count": null,
   "metadata": {},
   "outputs": [],
   "source": []
  }
 ],
 "metadata": {
  "kernelspec": {
   "display_name": "PythonData",
   "language": "python",
   "name": "pythondata"
  },
  "language_info": {
   "codemirror_mode": {
    "name": "ipython",
    "version": 3
   },
   "file_extension": ".py",
   "mimetype": "text/x-python",
   "name": "python",
   "nbconvert_exporter": "python",
   "pygments_lexer": "ipython3",
   "version": "3.7.7"
  },
  "latex_envs": {
   "LaTeX_envs_menu_present": true,
   "autoclose": false,
   "autocomplete": true,
   "bibliofile": "biblio.bib",
   "cite_by": "apalike",
   "current_citInitial": 1,
   "eqLabelWithNumbers": true,
   "eqNumInitial": 1,
   "hotkeys": {
    "equation": "Ctrl-E",
    "itemize": "Ctrl-I"
   },
   "labels_anchors": false,
   "latex_user_defs": false,
   "report_style_numbering": false,
   "user_envs_cfg": false
  }
 },
 "nbformat": 4,
 "nbformat_minor": 2
}
