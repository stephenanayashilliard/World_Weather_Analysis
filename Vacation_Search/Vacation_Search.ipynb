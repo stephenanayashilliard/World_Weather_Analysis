{
 "cells": [
  {
   "cell_type": "markdown",
   "metadata": {},
   "source": [
    "## Deliverable 2. Create a Customer Travel Destinations Map."
   ]
  },
  {
   "cell_type": "code",
   "execution_count": 15,
   "metadata": {},
   "outputs": [],
   "source": [
    "import os\n"
   ]
  },
  {
   "cell_type": "code",
   "execution_count": 13,
   "metadata": {},
   "outputs": [],
   "source": [
    "# Dependencies and Setup\n",
    "import pandas as pd\n",
    "import requests\n",
    "import gmaps\n",
    "\n",
    "# Import API key\n",
    "from config import g_key\n",
    "\n",
    "# Configure gmaps API key\n",
    "gmaps.configure(api_key=g_key)"
   ]
  },
  {
   "cell_type": "code",
   "execution_count": 16,
   "metadata": {},
   "outputs": [
    {
     "data": {
      "text/plain": [
       "'C:\\\\Users\\\\Stephen\\\\Desktop\\\\Class Projects\\\\World_Weather_Analysis\\\\Vacation_Search'"
      ]
     },
     "execution_count": 16,
     "metadata": {},
     "output_type": "execute_result"
    }
   ],
   "source": [
    "os.getcwd()"
   ]
  },
  {
   "cell_type": "code",
   "execution_count": 18,
   "metadata": {
    "scrolled": true
   },
   "outputs": [
    {
     "data": {
      "text/html": [
       "<div>\n",
       "<style scoped>\n",
       "    .dataframe tbody tr th:only-of-type {\n",
       "        vertical-align: middle;\n",
       "    }\n",
       "\n",
       "    .dataframe tbody tr th {\n",
       "        vertical-align: top;\n",
       "    }\n",
       "\n",
       "    .dataframe thead th {\n",
       "        text-align: right;\n",
       "    }\n",
       "</style>\n",
       "<table border=\"1\" class=\"dataframe\">\n",
       "  <thead>\n",
       "    <tr style=\"text-align: right;\">\n",
       "      <th></th>\n",
       "      <th>City_ID</th>\n",
       "      <th>City</th>\n",
       "      <th>Country</th>\n",
       "      <th>Lat</th>\n",
       "      <th>Lng</th>\n",
       "      <th>Max Temp</th>\n",
       "      <th>Humidity</th>\n",
       "      <th>Cloudiness</th>\n",
       "      <th>Wind Speed</th>\n",
       "      <th>Current Description</th>\n",
       "    </tr>\n",
       "  </thead>\n",
       "  <tbody>\n",
       "    <tr>\n",
       "      <th>0</th>\n",
       "      <td>0</td>\n",
       "      <td>Itoman</td>\n",
       "      <td>JP</td>\n",
       "      <td>26.12</td>\n",
       "      <td>127.67</td>\n",
       "      <td>78.8</td>\n",
       "      <td>88</td>\n",
       "      <td>75</td>\n",
       "      <td>8.05</td>\n",
       "      <td>light intensity shower rain</td>\n",
       "    </tr>\n",
       "    <tr>\n",
       "      <th>1</th>\n",
       "      <td>1</td>\n",
       "      <td>Mehamn</td>\n",
       "      <td>NO</td>\n",
       "      <td>71.04</td>\n",
       "      <td>27.85</td>\n",
       "      <td>32.0</td>\n",
       "      <td>92</td>\n",
       "      <td>40</td>\n",
       "      <td>8.05</td>\n",
       "      <td>scattered clouds</td>\n",
       "    </tr>\n",
       "    <tr>\n",
       "      <th>2</th>\n",
       "      <td>2</td>\n",
       "      <td>Kodiak</td>\n",
       "      <td>US</td>\n",
       "      <td>57.79</td>\n",
       "      <td>-152.41</td>\n",
       "      <td>39.2</td>\n",
       "      <td>60</td>\n",
       "      <td>1</td>\n",
       "      <td>12.75</td>\n",
       "      <td>clear sky</td>\n",
       "    </tr>\n",
       "    <tr>\n",
       "      <th>3</th>\n",
       "      <td>3</td>\n",
       "      <td>Yarada</td>\n",
       "      <td>IN</td>\n",
       "      <td>17.65</td>\n",
       "      <td>83.27</td>\n",
       "      <td>82.4</td>\n",
       "      <td>94</td>\n",
       "      <td>90</td>\n",
       "      <td>2.24</td>\n",
       "      <td>heavy intensity rain</td>\n",
       "    </tr>\n",
       "    <tr>\n",
       "      <th>4</th>\n",
       "      <td>4</td>\n",
       "      <td>Mataura</td>\n",
       "      <td>NZ</td>\n",
       "      <td>-46.19</td>\n",
       "      <td>168.86</td>\n",
       "      <td>45.0</td>\n",
       "      <td>77</td>\n",
       "      <td>94</td>\n",
       "      <td>1.99</td>\n",
       "      <td>overcast clouds</td>\n",
       "    </tr>\n",
       "  </tbody>\n",
       "</table>\n",
       "</div>"
      ],
      "text/plain": [
       "   City_ID     City Country    Lat     Lng  Max Temp  Humidity  Cloudiness  \\\n",
       "0        0   Itoman      JP  26.12  127.67      78.8        88          75   \n",
       "1        1   Mehamn      NO  71.04   27.85      32.0        92          40   \n",
       "2        2   Kodiak      US  57.79 -152.41      39.2        60           1   \n",
       "3        3   Yarada      IN  17.65   83.27      82.4        94          90   \n",
       "4        4  Mataura      NZ -46.19  168.86      45.0        77          94   \n",
       "\n",
       "   Wind Speed          Current Description  \n",
       "0        8.05  light intensity shower rain  \n",
       "1        8.05             scattered clouds  \n",
       "2       12.75                    clear sky  \n",
       "3        2.24         heavy intensity rain  \n",
       "4        1.99              overcast clouds  "
      ]
     },
     "execution_count": 18,
     "metadata": {},
     "output_type": "execute_result"
    }
   ],
   "source": [
    "# 1. Import the WeatherPy_database.csv file. \n",
    "city_data_df = pd.read_csv(\"C:\\\\Users\\\\Stephen\\\\Desktop\\\\Class Projects\\\\World_Weather_Analysis\\\\Weather_Database/WeatherPy_DataBase.csv\")\n",
    "city_data_df.head()"
   ]
  },
  {
   "cell_type": "code",
   "execution_count": 19,
   "metadata": {},
   "outputs": [
    {
     "name": "stdout",
     "output_type": "stream",
     "text": [
      "What is the minimum temperature you would like for your trip? 60\n",
      "What is the maximum temperature you would like for your trip? 80\n"
     ]
    }
   ],
   "source": [
    "# 2. Prompt the user to enter minimum and maximum temperature criteria \n",
    "min_temp = float(input(\"What is the minimum temperature you would like for your trip? \"))\n",
    "max_temp = float(input(\"What is the maximum temperature you would like for your trip? \"))"
   ]
  },
  {
   "cell_type": "code",
   "execution_count": 29,
   "metadata": {},
   "outputs": [
    {
     "ename": "TypeError",
     "evalue": "'DataFrame' object is not callable",
     "output_type": "error",
     "traceback": [
      "\u001b[1;31m---------------------------------------------------------------------------\u001b[0m",
      "\u001b[1;31mTypeError\u001b[0m                                 Traceback (most recent call last)",
      "\u001b[1;32m<ipython-input-29-1fce9d932770>\u001b[0m in \u001b[0;36m<module>\u001b[1;34m\u001b[0m\n\u001b[0;32m      2\u001b[0m preferred_cities_df = city_data_df.loc[(city_data_df[\"Max Temp\"] <= max_temp) & \\\n\u001b[0;32m      3\u001b[0m                                        (city_data_df[\"Max Temp\"] >= min_temp)]\n\u001b[1;32m----> 4\u001b[1;33m \u001b[0mpreferred_cities_df\u001b[0m\u001b[1;33m(\u001b[0m\u001b[0mlist\u001b[0m\u001b[1;33m)\u001b[0m\u001b[1;33m\u001b[0m\u001b[1;33m\u001b[0m\u001b[0m\n\u001b[0m",
      "\u001b[1;31mTypeError\u001b[0m: 'DataFrame' object is not callable"
     ]
    }
   ],
   "source": [
    "# 3. Filter the city_data_df DataFrame using the input statements to create a new DataFrame using the loc method.\n",
    "preferred_cities_df = city_data_df.loc[(city_data_df[\"Max Temp\"] <= max_temp) & \\\n",
    "                                       (city_data_df[\"Max Temp\"] >= min_temp)]\n",
    "preferred_cities_df"
   ]
  },
  {
   "cell_type": "code",
   "execution_count": 26,
   "metadata": {},
   "outputs": [
    {
     "data": {
      "text/plain": [
       "City_ID                248\n",
       "City                   248\n",
       "Country                246\n",
       "Lat                    248\n",
       "Lng                    248\n",
       "Max Temp               248\n",
       "Humidity               248\n",
       "Cloudiness             248\n",
       "Wind Speed             248\n",
       "Current Description    248\n",
       "dtype: int64"
      ]
     },
     "execution_count": 26,
     "metadata": {},
     "output_type": "execute_result"
    }
   ],
   "source": [
    "# 4a. Determine if there are any empty rows.\n",
    "preferred_cities_df.count()"
   ]
  },
  {
   "cell_type": "code",
   "execution_count": 32,
   "metadata": {},
   "outputs": [
    {
     "data": {
      "text/plain": [
       "City_ID                246\n",
       "City                   246\n",
       "Country                246\n",
       "Lat                    246\n",
       "Lng                    246\n",
       "Max Temp               246\n",
       "Humidity               246\n",
       "Cloudiness             246\n",
       "Wind Speed             246\n",
       "Current Description    246\n",
       "dtype: int64"
      ]
     },
     "execution_count": 32,
     "metadata": {},
     "output_type": "execute_result"
    }
   ],
   "source": [
    "# 4b. Drop any empty rows and create a new DataFrame that doesn’t have empty rows.\n",
    "clean_preferred_cities_df = preferred_cities_df.dropna()\n",
    "clean_preferred_cities_df.count()"
   ]
  },
  {
   "cell_type": "code",
   "execution_count": 33,
   "metadata": {},
   "outputs": [
    {
     "data": {
      "text/html": [
       "<div>\n",
       "<style scoped>\n",
       "    .dataframe tbody tr th:only-of-type {\n",
       "        vertical-align: middle;\n",
       "    }\n",
       "\n",
       "    .dataframe tbody tr th {\n",
       "        vertical-align: top;\n",
       "    }\n",
       "\n",
       "    .dataframe thead th {\n",
       "        text-align: right;\n",
       "    }\n",
       "</style>\n",
       "<table border=\"1\" class=\"dataframe\">\n",
       "  <thead>\n",
       "    <tr style=\"text-align: right;\">\n",
       "      <th></th>\n",
       "      <th>City</th>\n",
       "      <th>Country</th>\n",
       "      <th>Max Temp</th>\n",
       "      <th>Current Description</th>\n",
       "      <th>Lat</th>\n",
       "      <th>Lng</th>\n",
       "      <th>Hotel Name</th>\n",
       "    </tr>\n",
       "  </thead>\n",
       "  <tbody>\n",
       "    <tr>\n",
       "      <th>0</th>\n",
       "      <td>Itoman</td>\n",
       "      <td>JP</td>\n",
       "      <td>78.80</td>\n",
       "      <td>light intensity shower rain</td>\n",
       "      <td>26.12</td>\n",
       "      <td>127.67</td>\n",
       "      <td></td>\n",
       "    </tr>\n",
       "    <tr>\n",
       "      <th>5</th>\n",
       "      <td>Rikitea</td>\n",
       "      <td>PF</td>\n",
       "      <td>73.54</td>\n",
       "      <td>scattered clouds</td>\n",
       "      <td>-23.12</td>\n",
       "      <td>-134.97</td>\n",
       "      <td></td>\n",
       "    </tr>\n",
       "    <tr>\n",
       "      <th>12</th>\n",
       "      <td>Saint-Pierre</td>\n",
       "      <td>RE</td>\n",
       "      <td>75.20</td>\n",
       "      <td>scattered clouds</td>\n",
       "      <td>-21.34</td>\n",
       "      <td>55.48</td>\n",
       "      <td></td>\n",
       "    </tr>\n",
       "    <tr>\n",
       "      <th>13</th>\n",
       "      <td>Kapaa</td>\n",
       "      <td>US</td>\n",
       "      <td>77.23</td>\n",
       "      <td>clear sky</td>\n",
       "      <td>22.08</td>\n",
       "      <td>-159.32</td>\n",
       "      <td></td>\n",
       "    </tr>\n",
       "    <tr>\n",
       "      <th>14</th>\n",
       "      <td>Pangkalanbuun</td>\n",
       "      <td>ID</td>\n",
       "      <td>76.51</td>\n",
       "      <td>overcast clouds</td>\n",
       "      <td>-2.68</td>\n",
       "      <td>111.62</td>\n",
       "      <td></td>\n",
       "    </tr>\n",
       "    <tr>\n",
       "      <th>17</th>\n",
       "      <td>Castro</td>\n",
       "      <td>BR</td>\n",
       "      <td>78.49</td>\n",
       "      <td>clear sky</td>\n",
       "      <td>-24.79</td>\n",
       "      <td>-50.01</td>\n",
       "      <td></td>\n",
       "    </tr>\n",
       "    <tr>\n",
       "      <th>20</th>\n",
       "      <td>Avarua</td>\n",
       "      <td>CK</td>\n",
       "      <td>73.40</td>\n",
       "      <td>light intensity drizzle</td>\n",
       "      <td>-21.21</td>\n",
       "      <td>-159.78</td>\n",
       "      <td></td>\n",
       "    </tr>\n",
       "    <tr>\n",
       "      <th>21</th>\n",
       "      <td>Wajima</td>\n",
       "      <td>JP</td>\n",
       "      <td>65.14</td>\n",
       "      <td>overcast clouds</td>\n",
       "      <td>37.40</td>\n",
       "      <td>136.90</td>\n",
       "      <td></td>\n",
       "    </tr>\n",
       "    <tr>\n",
       "      <th>22</th>\n",
       "      <td>Faanui</td>\n",
       "      <td>PF</td>\n",
       "      <td>77.90</td>\n",
       "      <td>scattered clouds</td>\n",
       "      <td>-16.48</td>\n",
       "      <td>-151.75</td>\n",
       "      <td></td>\n",
       "    </tr>\n",
       "    <tr>\n",
       "      <th>24</th>\n",
       "      <td>Ilam</td>\n",
       "      <td>NP</td>\n",
       "      <td>60.69</td>\n",
       "      <td>few clouds</td>\n",
       "      <td>26.92</td>\n",
       "      <td>87.92</td>\n",
       "      <td></td>\n",
       "    </tr>\n",
       "  </tbody>\n",
       "</table>\n",
       "</div>"
      ],
      "text/plain": [
       "             City Country  Max Temp          Current Description    Lat  \\\n",
       "0          Itoman      JP     78.80  light intensity shower rain  26.12   \n",
       "5         Rikitea      PF     73.54             scattered clouds -23.12   \n",
       "12   Saint-Pierre      RE     75.20             scattered clouds -21.34   \n",
       "13          Kapaa      US     77.23                    clear sky  22.08   \n",
       "14  Pangkalanbuun      ID     76.51              overcast clouds  -2.68   \n",
       "17         Castro      BR     78.49                    clear sky -24.79   \n",
       "20         Avarua      CK     73.40      light intensity drizzle -21.21   \n",
       "21         Wajima      JP     65.14              overcast clouds  37.40   \n",
       "22         Faanui      PF     77.90             scattered clouds -16.48   \n",
       "24           Ilam      NP     60.69                   few clouds  26.92   \n",
       "\n",
       "       Lng Hotel Name  \n",
       "0   127.67             \n",
       "5  -134.97             \n",
       "12   55.48             \n",
       "13 -159.32             \n",
       "14  111.62             \n",
       "17  -50.01             \n",
       "20 -159.78             \n",
       "21  136.90             \n",
       "22 -151.75             \n",
       "24   87.92             "
      ]
     },
     "execution_count": 33,
     "metadata": {},
     "output_type": "execute_result"
    }
   ],
   "source": [
    "# 5a. Create DataFrame called hotel_df to store hotel names along with city, country, max temp, and coordinates.\n",
    "hotel_df = clean_preferred_cities_df[[\"City\", \"Country\", \"Max Temp\", \"Current Description\", \"Lat\", \"Lng\"]].copy()\n",
    "\n",
    "# 5b. Create a new column \"Hotel Name\"\n",
    "hotel_df[\"Hotel Name\"] = \"\"\n",
    "hotel_df.head(10)"
   ]
  },
  {
   "cell_type": "code",
   "execution_count": null,
   "metadata": {},
   "outputs": [],
   "source": [
    "# 6a. Set parameters to search for hotels with 5000 meters.\n",
    "params = {\n",
    "    \"radius\": 5000,\n",
    "    \"type\": \"lodging\",\n",
    "    \"key\": g_key\n",
    "}\n",
    "\n",
    "# 6b. Iterate through the hotel DataFrame.\n",
    "\n",
    "    # 6c. Get latitude and longitude from DataFrame\n",
    "\n",
    "    \n",
    "    # 6d. Set up the base URL for the Google Directions API to get JSON data.\n",
    "    \n",
    "\n",
    "    # 6e. Make request and retrieve the JSON data from the search. \n",
    "   \n",
    "    \n",
    "    # 6f. Get the first hotel from the results and store the name, if a hotel isn't found skip the city.\n",
    "    \n",
    "        "
   ]
  },
  {
   "cell_type": "code",
   "execution_count": null,
   "metadata": {},
   "outputs": [],
   "source": [
    "# 7. Drop the rows where there is no Hotel Name.\n"
   ]
  },
  {
   "cell_type": "code",
   "execution_count": null,
   "metadata": {},
   "outputs": [],
   "source": [
    "# 8a. Create the output File (CSV)\n",
    "\n",
    "# 8b. Export the City_Data into a csv\n",
    "clean_hotel_df.to_csv(output_data_file, index_label=\"City_ID\")"
   ]
  },
  {
   "cell_type": "code",
   "execution_count": null,
   "metadata": {},
   "outputs": [],
   "source": [
    "# 9. Using the template add city name, the country code, the weather description and maximum temperature for the city.\n",
    "info_box_template = \"\"\"\n",
    "\n",
    "\"\"\"\n",
    "\n",
    "# 10a. Get the data from each row and add it to the formatting template and store the data in a list.\n",
    "hotel_info = [info_box_template.format(**row) for index, row in clean_hotel_df.iterrows()]\n",
    "\n",
    "# 10b. Get the latitude and longitude from each row and store in a new DataFrame.\n",
    "locations = clean_hotel_df[[\"Lat\", \"Lng\"]]"
   ]
  },
  {
   "cell_type": "code",
   "execution_count": null,
   "metadata": {},
   "outputs": [],
   "source": [
    "# 11a. Add a marker layer for each city to the map. \n",
    "\n",
    "# 11b. Display the figure\n"
   ]
  },
  {
   "cell_type": "code",
   "execution_count": null,
   "metadata": {},
   "outputs": [],
   "source": []
  },
  {
   "cell_type": "code",
   "execution_count": null,
   "metadata": {},
   "outputs": [],
   "source": []
  }
 ],
 "metadata": {
  "kernelspec": {
   "display_name": "PythonData",
   "language": "python",
   "name": "pythondata"
  },
  "language_info": {
   "codemirror_mode": {
    "name": "ipython",
    "version": 3
   },
   "file_extension": ".py",
   "mimetype": "text/x-python",
   "name": "python",
   "nbconvert_exporter": "python",
   "pygments_lexer": "ipython3",
   "version": "3.7.7"
  },
  "latex_envs": {
   "LaTeX_envs_menu_present": true,
   "autoclose": false,
   "autocomplete": true,
   "bibliofile": "biblio.bib",
   "cite_by": "apalike",
   "current_citInitial": 1,
   "eqLabelWithNumbers": true,
   "eqNumInitial": 1,
   "hotkeys": {
    "equation": "Ctrl-E",
    "itemize": "Ctrl-I"
   },
   "labels_anchors": false,
   "latex_user_defs": false,
   "report_style_numbering": false,
   "user_envs_cfg": false
  }
 },
 "nbformat": 4,
 "nbformat_minor": 2
}
